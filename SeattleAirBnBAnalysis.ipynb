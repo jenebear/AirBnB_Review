{
    "cells": [
        {
            "cell_type": "code",
            "execution_count": null,
            "source": [
                "''' Seattle AirBnB Review '''\n",
                "\n",
                "import numpy as np\n",
                "import pandas as pd\n",
                "import matplotlib.pyplot as plt\n",
                "import ALookAtTheData as t\n",
                "from IPython import display\n",
                "%matplotlib inline\n",
                "\n",
                "listings = pd.read_csv('../SeattleListings.csv') #Pull in the listings file\n",
                "listings.head()\n",
                "\n",
                "\n",
                "#Check the size of the data set in terms of rows and columns\n",
                "\n",
                "num_rows = listings.shape[0] #Provide the number of rows in the dataset\n",
                "num_cols = listings.shape[1] #Provide the number of columns in the dataset\n",
                "\n",
                "#Check if any data is missing\n",
                "\n",
                "missingListings = listings.isnull().sum()\n"
            ],
            "outputs": [],
            "metadata": {}
        }
    ],
    "metadata": {
        "orig_nbformat": 4,
        "language_info": {
            "name": "python",
            "version": "3.9.1"
        },
        "kernelspec": {
            "name": "python3",
            "display_name": "Python 3.9.1 64-bit ('base': conda)"
        },
        "interpreter": {
            "hash": "569d6b7e9215e11aba41c6454007e5c1b78bad7df09dab765d8cf00362c40f03"
        }
    },
    "nbformat": 4,
    "nbformat_minor": 2
}